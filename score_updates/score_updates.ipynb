{
 "cells": [
  {
   "cell_type": "code",
   "execution_count": 1,
   "metadata": {},
   "outputs": [],
   "source": [
    "import pandas as pd\n",
    "import numpy as np\n",
    "import requests\n",
    "from bs4 import BeautifulSoup"
   ]
  },
  {
   "cell_type": "code",
   "execution_count": 2,
   "metadata": {},
   "outputs": [],
   "source": [
    "# URL to scrape\n",
    "url = \"https://www.basketball-reference.com/leagues/NBA_2025_games-march.html\"\n",
    "# Get the webpage content\n",
    "response = requests.get(url)\n",
    "response.encoding = 'utf-8'\n",
    "soup = BeautifulSoup(response.text, 'html.parser')\n",
    "table = soup.find('table', {'id': 'schedule'})\n",
    "rows = table.find_all('tr')[1:]\n",
    "\n",
    "game_data = []\n",
    "\n",
    "for row in rows:\n",
    "    cols = row.find_all('td')\n",
    "\n",
    "    if cols:\n",
    "        game_date = row.find('th').text.strip()\n",
    "        away_team = cols[1].text.strip()\n",
    "        home_team = cols[3].text.strip()\n",
    "        away_score = cols[2].text.strip()\n",
    "        home_score = cols[4].text.strip()\n",
    "        if home_score:\n",
    "            overtime = cols[6].text.strip() if cols[6].text.strip() else \"n\"\n",
    "        else:\n",
    "            overtime = \"\"\n",
    "\n",
    "        game_data.append([game_date, away_team, home_team, away_score, home_score, overtime])\n",
    "df = pd.DataFrame(game_data, columns=['Date', 'Away Team', 'Home Team', 'Away Score', 'Home Score', 'Overtime'])\n",
    "df['Date'] = pd.to_datetime(df['Date'], format = \"%a, %b %d, %Y\").dt.strftime('%Y-%m-%d')"
   ]
  },
  {
   "cell_type": "code",
   "execution_count": null,
   "metadata": {},
   "outputs": [],
   "source": []
  }
 ],
 "metadata": {
  "kernelspec": {
   "display_name": "base",
   "language": "python",
   "name": "python3"
  },
  "language_info": {
   "codemirror_mode": {
    "name": "ipython",
    "version": 3
   },
   "file_extension": ".py",
   "mimetype": "text/x-python",
   "name": "python",
   "nbconvert_exporter": "python",
   "pygments_lexer": "ipython3",
   "version": "3.9.12"
  }
 },
 "nbformat": 4,
 "nbformat_minor": 2
}
