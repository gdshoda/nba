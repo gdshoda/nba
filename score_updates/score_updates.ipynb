{
 "cells": [
  {
   "cell_type": "code",
   "execution_count": 1,
   "metadata": {},
   "outputs": [],
   "source": [
    "import pandas as pd\n",
    "import numpy as np\n",
    "import requests\n",
    "from bs4 import BeautifulSoup"
   ]
  },
  {
   "cell_type": "code",
   "execution_count": 2,
   "metadata": {},
   "outputs": [],
   "source": [
    "# Set the maximum number of rows to display\n",
    "pd.set_option('display.max_rows', None)\n"
   ]
  },
  {
   "cell_type": "code",
   "execution_count": 3,
   "metadata": {},
   "outputs": [],
   "source": [
    "# URL to scrape\n",
    "url = \"https://www.basketball-reference.com/leagues/NBA_2025_games-march.html\"\n",
    "# Get the webpage content\n",
    "response = requests.get(url)\n",
    "response.encoding = 'utf-8'\n",
    "soup = BeautifulSoup(response.text, 'html.parser')\n",
    "table = soup.find('table', {'id': 'schedule'})\n",
    "rows = table.find_all('tr')[1:]\n",
    "\n",
    "game_data = []\n",
    "\n",
    "for row in rows:\n",
    "    cols = row.find_all('td')\n",
    "\n",
    "    if cols:\n",
    "        game_date = row.find('th').text.strip()\n",
    "        away_team = cols[1].text.strip()\n",
    "        home_team = cols[3].text.strip()\n",
    "        away_score = cols[2].text.strip()\n",
    "        home_score = cols[4].text.strip()\n",
    "        if home_score:\n",
    "            overtime = cols[6].text.strip() if cols[6].text.strip() else \"n\"\n",
    "        else:\n",
    "            overtime = \"\"\n",
    "\n",
    "        game_data.append([game_date, away_team, home_team, away_score, home_score, overtime])\n",
    "df = pd.DataFrame(game_data, columns=['Date', 'Away Team', 'Home Team', 'Away Score', 'Home Score', 'Overtime'])\n",
    "df['Date'] = pd.to_datetime(df['Date'], format = \"%a, %b %d, %Y\").dt.date"
   ]
  },
  {
   "cell_type": "code",
   "execution_count": 4,
   "metadata": {},
   "outputs": [],
   "source": [
    "import psycopg2\n",
    "import sys\n",
    "import os"
   ]
  },
  {
   "cell_type": "code",
   "execution_count": 5,
   "metadata": {},
   "outputs": [],
   "source": [
    "connection = psycopg2.connect(\n",
    "        host='192.168.4.64',       # e.g., 'localhost' or an IP address\n",
    "        database='nba_odds', # e.g., 'mydatabase'\n",
    "        user='gdshoda',   # e.g., 'postgres'\n",
    "        password='122nd@NG' # e.g., 'mypassword'\n",
    "    )"
   ]
  },
  {
   "cell_type": "code",
   "execution_count": 6,
   "metadata": {},
   "outputs": [],
   "source": [
    "cursor = connection.cursor()"
   ]
  },
  {
   "cell_type": "code",
   "execution_count": 7,
   "metadata": {},
   "outputs": [],
   "source": [
    "cursor.execute(\"SELECT MIN(date) FROM schedule WHERE home_points IS NULL\")"
   ]
  },
  {
   "cell_type": "code",
   "execution_count": 8,
   "metadata": {},
   "outputs": [],
   "source": [
    "min_date = cursor.fetchone()[0]"
   ]
  },
  {
   "cell_type": "code",
   "execution_count": 9,
   "metadata": {},
   "outputs": [],
   "source": [
    "df = df.loc[(df['Date'] >= min_date) & (df['Home Score'] != '')]"
   ]
  },
  {
   "cell_type": "code",
   "execution_count": 10,
   "metadata": {},
   "outputs": [
    {
     "name": "stdout",
     "output_type": "stream",
     "text": [
      "Updated Score for Brooklyn Nets @ Cleveland Cavaliers on 2025-03-11\n"
     ]
    }
   ],
   "source": [
    "for x, row in df.iterrows():\n",
    "    home= row['Home Team']\n",
    "    visitor = row['Away Team']\n",
    "    date = row['Date']\n",
    "    home_points = row['Home Score']\n",
    "    away_points = row['Away Score']\n",
    "\n",
    "    # SQL query to update the row where game_id and team match\n",
    "    update_query =  \"\"\"\n",
    "                    UPDATE schedule\n",
    "                    SET home_points = %s, away_points = %s\n",
    "                    WHERE visitor = %s AND home = %s and date = %s;\n",
    "                    \"\"\"\n",
    "    \n",
    "    \n",
    "    \n",
    "    cursor.execute(update_query, (home_points, away_points, visitor, home, date))\n",
    "\n",
    "    connection.commit()\n",
    "\n",
    "    print(f\"Updated Score for {visitor} @ {home} on {date}\")\n",
    "    break\n"
   ]
  },
  {
   "cell_type": "code",
   "execution_count": null,
   "metadata": {},
   "outputs": [],
   "source": []
  }
 ],
 "metadata": {
  "kernelspec": {
   "display_name": "Python 3",
   "language": "python",
   "name": "python3"
  },
  "language_info": {
   "codemirror_mode": {
    "name": "ipython",
    "version": 3
   },
   "file_extension": ".py",
   "mimetype": "text/x-python",
   "name": "python",
   "nbconvert_exporter": "python",
   "pygments_lexer": "ipython3",
   "version": "3.10.4"
  }
 },
 "nbformat": 4,
 "nbformat_minor": 2
}
