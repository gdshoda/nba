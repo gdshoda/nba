{
 "cells": [
  {
   "cell_type": "code",
   "execution_count": 2,
   "metadata": {},
   "outputs": [],
   "source": [
    "import requests\n",
    "import fitz  # PyMuPDF\n",
    "from io import BytesIO\n",
    "import pandas as pd\n",
    "import numpy as np\n",
    "import camelot"
   ]
  },
  {
   "cell_type": "code",
   "execution_count": 55,
   "metadata": {},
   "outputs": [],
   "source": [
    "pd.set_option('display.max_rows', None)"
   ]
  },
  {
   "cell_type": "markdown",
   "metadata": {},
   "source": [
    "# Download PDF"
   ]
  },
  {
   "cell_type": "code",
   "execution_count": 3,
   "metadata": {},
   "outputs": [],
   "source": [
    "# URL of the hosted PDF\n",
    "pdf_url = \"https://ak-static.cms.nba.com/referee/injury/Injury-Report_2024-11-08_12AM.pdf\"\n",
    "\n",
    "# Download the PDF\n",
    "response = requests.get(pdf_url)\n",
    "response.raise_for_status()\n",
    "\n",
    "pdf_path = \"temp.pdf\"\n",
    "\n",
    "with open(pdf_path, \"wb\") as f:\n",
    "    f.write(response.content)"
   ]
  },
  {
   "cell_type": "markdown",
   "metadata": {},
   "source": [
    "# Get PDF in Useful Format"
   ]
  },
  {
   "cell_type": "code",
   "execution_count": 96,
   "metadata": {},
   "outputs": [],
   "source": [
    "columns = [\"119,199,264,424,585,666\"]\n",
    "\n",
    "all_stream_tables = camelot.read_pdf(pdf_path, pages = 'all', flavor = 'stream', row_tol = 18, columns = columns)\n",
    "\n",
    "dfs = []\n",
    "\n",
    "for x in range(len(all_stream_tables)):\n",
    "    table = all_stream_tables[x].df\n",
    "    if x == 1:\n",
    "        injury_report_datetime = table.iloc[0, 4]\n",
    "        #print(datetime)\n",
    "    table = table.iloc[1:]\n",
    "    \n",
    "    dfs.append(table)\n",
    "\n",
    "column_names = [\"game_date\", \"game_start_time\", \"Matchup\", \"Team\", \"Player Name\", \"status\", \"reason\"]\n",
    "\n",
    "concat_df = pd.concat(dfs, ignore_index = True)\n",
    "\n",
    "concat_df.columns = column_names\n",
    "\n",
    "concat_df['injury_report_datetime'] = injury_report_datetime\n",
    "\n",
    "concat_df[concat_df.select_dtypes(include=['object']).columns] = concat_df.select_dtypes(include=['object']).apply(lambda x: x.str.strip())\n",
    "\n",
    "concat_df.replace(\"\", np.nan, inplace = True)\n",
    "\n",
    "concat_df.iloc[:, 0:6] = concat_df.iloc[:, 0:6].ffill()\n",
    "\n",
    "not_submitted_df = concat_df.loc[concat_df['reason'] == 'NOT YET SUBMITTED']\n",
    "\n",
    "concat_df = concat_df.loc[concat_df['reason'] != 'NOT YET SUBMITTED']\n",
    "\n",
    "concat_df['game_date'] = pd.to_datetime(concat_df['game_date'], format='%m/%d/%Y').dt.strftime('%Y-%m-%d')\n",
    "\n",
    "concat_df['game_start_time'] = concat_df['game_start_time'].str.replace(' (ET)', '')\n",
    "\n",
    "concat_df['injury_report_datetime'] = concat_df['injury_report_datetime'].str.replace(\"Injury Report: \", \"\")\n",
    "\n",
    "concat_df['injury_report_datetime'] = pd.to_datetime(concat_df['injury_report_datetime'], format = '%m/%d/%y %I:%M %p').dt.strftime('%Y-%m-%d %H:%M')\n",
    "\n",
    "concat_df = concat_df[['injury_report_datetime', 'game_date', 'Matchup', 'Team', 'Player Name', 'status', 'reason']]\n",
    "\n",
    "concat_df = concat_df.groupby(concat_df.columns[:-1].to_list(), as_index=False).agg({'reason': ' '.join})\n",
    "\n",
    "concat_df[['player_last_name','player_first_name']] = concat_df['Player Name'].str.split(\",\", expand = True)\n",
    "\n",
    "concat_df['player_name'] = concat_df['player_first_name'] + ' ' + concat_df['player_last_name']\n",
    "\n",
    "concat_df[['visitor_team_id', 'home_team_id']] = concat_df['Matchup'].str.split('@', expand = True)"
   ]
  },
  {
   "cell_type": "code",
   "execution_count": 101,
   "metadata": {},
   "outputs": [],
   "source": [
    "def get_nba_injury_pdf_data(pdf_path):\n",
    "    columns = [\"119,199,264,424,585,666\"]\n",
    "\n",
    "    all_stream_tables = camelot.read_pdf(pdf_path, pages = 'all', flavor = 'stream', row_tol = 18, columns = columns)\n",
    "\n",
    "    dfs = []\n",
    "\n",
    "    for x in range(len(all_stream_tables)):\n",
    "        table = all_stream_tables[x].df\n",
    "        if x == 1:\n",
    "            injury_report_datetime = table.iloc[0, 4]\n",
    "            #print(datetime)\n",
    "        table = table.iloc[1:]\n",
    "        \n",
    "        dfs.append(table)\n",
    "\n",
    "    column_names = [\"game_date\", \"game_start_time\", \"Matchup\", \"Team\", \"Player Name\", \"status\", \"reason\"]\n",
    "\n",
    "    concat_df = pd.concat(dfs, ignore_index = True)\n",
    "\n",
    "    concat_df.columns = column_names\n",
    "\n",
    "    concat_df['injury_report_datetime'] = injury_report_datetime\n",
    "\n",
    "    return concat_df"
   ]
  },
  {
   "cell_type": "code",
   "execution_count": 134,
   "metadata": {},
   "outputs": [],
   "source": [
    "def fill_and_filter_nba_injury_pdf_data(concat_df):\n",
    "    concat_df[concat_df.select_dtypes(include=['object']).columns] = concat_df.select_dtypes(include=['object']).apply(lambda x: x.str.strip())\n",
    "\n",
    "    concat_df.replace(\"\", np.nan, inplace = True)\n",
    "\n",
    "    concat_df.iloc[:, 0:6] = concat_df.iloc[:, 0:6].ffill()\n",
    "\n",
    "    not_submitted_df = concat_df.loc[concat_df['reason'] == 'NOT YET SUBMITTED']\n",
    "\n",
    "    not_submitted_df = not_submitted_df.copy()\n",
    "\n",
    "    concat_df = concat_df.loc[concat_df['reason'] != 'NOT YET SUBMITTED']\n",
    "\n",
    "    return concat_df, not_submitted_df"
   ]
  },
  {
   "cell_type": "code",
   "execution_count": 123,
   "metadata": {},
   "outputs": [],
   "source": [
    "def clean_nba_injury_df(concat_df):\n",
    "\n",
    "    concat_df['game_date'] = pd.to_datetime(concat_df['game_date'], format='%m/%d/%Y').dt.strftime('%Y-%m-%d')\n",
    "\n",
    "    concat_df['game_start_time'] = concat_df['game_start_time'].str.replace(' (ET)', '')\n",
    "\n",
    "    concat_df['injury_report_datetime'] = concat_df['injury_report_datetime'].str.replace(\"Injury Report: \", \"\")\n",
    "\n",
    "    concat_df['injury_report_datetime'] = pd.to_datetime(concat_df['injury_report_datetime'], format = '%m/%d/%y %I:%M %p').dt.strftime('%Y-%m-%d %H:%M')\n",
    "\n",
    "    concat_df = concat_df[['injury_report_datetime', 'game_date', 'Matchup', 'Team', 'Player Name', 'status', 'reason']]\n",
    "\n",
    "    concat_df = concat_df.groupby(concat_df.columns[:-1].to_list(), as_index=False).agg({'reason': ' '.join})\n",
    "\n",
    "    concat_df[['player_last_name','player_first_name']] = concat_df['Player Name'].str.split(\",\", expand = True)\n",
    "\n",
    "    concat_df['player_name'] = concat_df['player_first_name'] + ' ' + concat_df['player_last_name']\n",
    "\n",
    "    concat_df[['visitor_team_id', 'home_team_id']] = concat_df['Matchup'].str.split('@', expand = True)\n",
    "\n",
    "    concat_df = concat_df[['injury_report_datetime', 'game_date', 'visitor_team_id', 'home_team_id', 'Team', 'player_name', 'player_first_name', 'player_last_name', 'status', 'reason']]\n",
    "\n",
    "    return concat_df\n",
    "    "
   ]
  },
  {
   "cell_type": "code",
   "execution_count": 130,
   "metadata": {},
   "outputs": [],
   "source": [
    "def clean_nba_injury_missing(not_submitted_df):\n",
    "\n",
    "    not_submitted_df.loc[not_submitted_df['Player Name'] != np.nan, 'player_name'] = np.nan\n",
    "\n",
    "    not_submitted_df.loc[not_submitted_df['status'] != np.nan, 'status'] = np.nan\n",
    "    \n",
    "    not_submitted_df['game_date'] = pd.to_datetime(not_submitted_df['game_date'], format='%m/%d/%Y').dt.strftime('%Y-%m-%d')\n",
    "\n",
    "    not_submitted_df['game_start_time'] = not_submitted_df['game_start_time'].str.replace(' (ET)', '')\n",
    "\n",
    "    not_submitted_df['injury_report_datetime'] = not_submitted_df['injury_report_datetime'].str.replace(\"Injury Report: \", \"\")\n",
    "\n",
    "    not_submitted_df['injury_report_datetime'] = pd.to_datetime(not_submitted_df['injury_report_datetime'], format = '%m/%d/%y %I:%M %p').dt.strftime('%Y-%m-%d %H:%M')\n",
    "\n",
    "    not_submitted_df = not_submitted_df[['injury_report_datetime', 'game_date', 'Matchup', 'Team', 'player_name', 'status', 'reason']]\n",
    "\n",
    "    not_submitted_df[['visitor_team_id', 'home_team_id']] = not_submitted_df['Matchup'].str.split('@', expand = True)\n",
    "\n",
    "    not_submitted_df['player_first_name'] = np.nan\n",
    "\n",
    "    not_submitted_df['player_last_name'] = np.nan\n",
    "\n",
    "    not_submitted_df = not_submitted_df[['injury_report_datetime', 'game_date', 'visitor_team_id', 'home_team_id', 'Team', 'player_name', 'player_first_name', 'player_last_name', 'status', 'reason']]\n",
    "\n",
    "    return not_submitted_df"
   ]
  },
  {
   "cell_type": "code",
   "execution_count": 136,
   "metadata": {},
   "outputs": [
    {
     "name": "stderr",
     "output_type": "stream",
     "text": [
      "C:\\Users\\greg.shoda\\AppData\\Local\\Temp\\ipykernel_7140\\1635055486.py:3: SettingWithCopyWarning: \n",
      "A value is trying to be set on a copy of a slice from a DataFrame.\n",
      "Try using .loc[row_indexer,col_indexer] = value instead\n",
      "\n",
      "See the caveats in the documentation: https://pandas.pydata.org/pandas-docs/stable/user_guide/indexing.html#returning-a-view-versus-a-copy\n",
      "  concat_df['game_date'] = pd.to_datetime(concat_df['game_date'], format='%m/%d/%Y').dt.strftime('%Y-%m-%d')\n",
      "C:\\Users\\greg.shoda\\AppData\\Local\\Temp\\ipykernel_7140\\1635055486.py:5: SettingWithCopyWarning: \n",
      "A value is trying to be set on a copy of a slice from a DataFrame.\n",
      "Try using .loc[row_indexer,col_indexer] = value instead\n",
      "\n",
      "See the caveats in the documentation: https://pandas.pydata.org/pandas-docs/stable/user_guide/indexing.html#returning-a-view-versus-a-copy\n",
      "  concat_df['game_start_time'] = concat_df['game_start_time'].str.replace(' (ET)', '')\n",
      "C:\\Users\\greg.shoda\\AppData\\Local\\Temp\\ipykernel_7140\\1635055486.py:7: SettingWithCopyWarning: \n",
      "A value is trying to be set on a copy of a slice from a DataFrame.\n",
      "Try using .loc[row_indexer,col_indexer] = value instead\n",
      "\n",
      "See the caveats in the documentation: https://pandas.pydata.org/pandas-docs/stable/user_guide/indexing.html#returning-a-view-versus-a-copy\n",
      "  concat_df['injury_report_datetime'] = concat_df['injury_report_datetime'].str.replace(\"Injury Report: \", \"\")\n",
      "C:\\Users\\greg.shoda\\AppData\\Local\\Temp\\ipykernel_7140\\1635055486.py:9: SettingWithCopyWarning: \n",
      "A value is trying to be set on a copy of a slice from a DataFrame.\n",
      "Try using .loc[row_indexer,col_indexer] = value instead\n",
      "\n",
      "See the caveats in the documentation: https://pandas.pydata.org/pandas-docs/stable/user_guide/indexing.html#returning-a-view-versus-a-copy\n",
      "  concat_df['injury_report_datetime'] = pd.to_datetime(concat_df['injury_report_datetime'], format = '%m/%d/%y %I:%M %p').dt.strftime('%Y-%m-%d %H:%M')\n",
      "C:\\Users\\greg.shoda\\AppData\\Local\\Temp\\ipykernel_7140\\4018370384.py:17: SettingWithCopyWarning: \n",
      "A value is trying to be set on a copy of a slice from a DataFrame.\n",
      "Try using .loc[row_indexer,col_indexer] = value instead\n",
      "\n",
      "See the caveats in the documentation: https://pandas.pydata.org/pandas-docs/stable/user_guide/indexing.html#returning-a-view-versus-a-copy\n",
      "  not_submitted_df[['visitor_team_id', 'home_team_id']] = not_submitted_df['Matchup'].str.split('@', expand = True)\n"
     ]
    }
   ],
   "source": [
    "nba_pdf_data = get_nba_injury_pdf_data(pdf_path)\n",
    "\n",
    "submitted_injuries, not_submitted = fill_and_filter_nba_injury_pdf_data(nba_pdf_data)\n",
    "\n",
    "cleaned_submitted_injuries = clean_nba_injury_df(submitted_injuries)\n",
    "\n",
    "cleaned_not_submitted = clean_nba_injury_missing(not_submitted)\n",
    "\n",
    "full_injury_df = pd.concat([cleaned_submitted_injuries, cleaned_not_submitted], ignore_index = True)"
   ]
  },
  {
   "cell_type": "code",
   "execution_count": 137,
   "metadata": {},
   "outputs": [
    {
     "name": "stdout",
     "output_type": "stream",
     "text": [
      "<class 'pandas.core.frame.DataFrame'>\n",
      "RangeIndex: 129 entries, 0 to 128\n",
      "Data columns (total 10 columns):\n",
      " #   Column                  Non-Null Count  Dtype \n",
      "---  ------                  --------------  ----- \n",
      " 0   injury_report_datetime  129 non-null    object\n",
      " 1   game_date               129 non-null    object\n",
      " 2   visitor_team_id         129 non-null    object\n",
      " 3   home_team_id            129 non-null    object\n",
      " 4   Team                    129 non-null    object\n",
      " 5   player_name             118 non-null    object\n",
      " 6   player_first_name       118 non-null    object\n",
      " 7   player_last_name        118 non-null    object\n",
      " 8   status                  118 non-null    object\n",
      " 9   reason                  129 non-null    object\n",
      "dtypes: object(10)\n",
      "memory usage: 10.2+ KB\n"
     ]
    }
   ],
   "source": [
    "full_injury_df.info()"
   ]
  },
  {
   "cell_type": "code",
   "execution_count": null,
   "metadata": {},
   "outputs": [],
   "source": []
  }
 ],
 "metadata": {
  "kernelspec": {
   "display_name": "base",
   "language": "python",
   "name": "python3"
  },
  "language_info": {
   "codemirror_mode": {
    "name": "ipython",
    "version": 3
   },
   "file_extension": ".py",
   "mimetype": "text/x-python",
   "name": "python",
   "nbconvert_exporter": "python",
   "pygments_lexer": "ipython3",
   "version": "3.9.12"
  }
 },
 "nbformat": 4,
 "nbformat_minor": 2
}
